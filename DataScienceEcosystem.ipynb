{
 "cells": [
  {
   "cell_type": "markdown",
   "id": "a6bdc31d-cc8e-48e2-895c-11dcbb62efc9",
   "metadata": {},
   "source": [
    "Data Science Tools and Ecosystem"
   ]
  },
  {
   "cell_type": "markdown",
   "id": "6f35ddbf-833d-4b54-aa48-3cc945769fb0",
   "metadata": {},
   "source": [
    "In this notebook, Data Science Tools and Ecosystem are summarized."
   ]
  },
  {
   "cell_type": "markdown",
   "id": "4372bd08-329c-471c-a0b5-33b4acd2c8a4",
   "metadata": {},
   "source": [
    "**Objectives:**\n",
    "- list popular languages for data science\n",
    "- list examples of open-source tools used in data science\n",
    "- list examples of cloud-based tools used in data science"
   ]
  },
  {
   "cell_type": "markdown",
   "id": "daad9b5f-40d0-471a-843e-04c07aeccef1",
   "metadata": {},
   "source": [
    "Some of the popular languages that Data Scientists use are:\n",
    "1. R\n",
    "2. Python\n",
    "3. SQL"
   ]
  },
  {
   "cell_type": "markdown",
   "id": "b8d6f0af-bc3c-4e21-8d52-5ae97ca383d3",
   "metadata": {},
   "source": [
    "Some of the commonly used libraries used by Data Scientists include:\n",
    "1. Pandas\n",
    "2. tidyverse\n",
    "3. ggplot2"
   ]
  },
  {
   "cell_type": "markdown",
   "id": "d0b99245-be6c-40f2-a158-b755df29cfa3",
   "metadata": {},
   "source": [
    "|Data Science Tools|\n",
    "|------------------|\n",
    "|R Studio|\n",
    "|Jupyter Notebooks|\n",
    "|Visual Studio Code|"
   ]
  },
  {
   "cell_type": "markdown",
   "id": "4493ca9a-f9bd-4aa8-ab22-da42450c377d",
   "metadata": {},
   "source": [
    "### Below are a few examples of evaluating arithmetic expressions in Python."
   ]
  },
  {
   "cell_type": "code",
   "execution_count": 20,
   "id": "3b72d587-1555-4e80-9f3f-bf1d9dd5542d",
   "metadata": {},
   "outputs": [
    {
     "data": {
      "text/plain": [
       "17"
      ]
     },
     "execution_count": 20,
     "metadata": {},
     "output_type": "execute_result"
    }
   ],
   "source": [
    "#This is a simple arithmetic expression to multiply then add integers.\n",
    "(3*4)+5"
   ]
  },
  {
   "cell_type": "code",
   "execution_count": 26,
   "id": "62778aa3-b458-4eb8-9b7b-955049002a78",
   "metadata": {},
   "outputs": [
    {
     "data": {
      "text/plain": [
       "3.3333333333333335"
      ]
     },
     "execution_count": 26,
     "metadata": {},
     "output_type": "execute_result"
    }
   ],
   "source": [
    "#This will convert 200 minutes to hours by dividing by 60.\n",
    "200/60"
   ]
  },
  {
   "cell_type": "markdown",
   "id": "174acabe-801b-4a4f-98df-4dff0736e504",
   "metadata": {},
   "source": [
    "## Author\n",
    "Jaim Bourg"
   ]
  },
  {
   "cell_type": "code",
   "execution_count": null,
   "id": "ad3cc638-5758-4649-a3bc-43b3a0d024eb",
   "metadata": {},
   "outputs": [],
   "source": []
  }
 ],
 "metadata": {
  "kernelspec": {
   "display_name": "anaconda-panel-2023.05-py310",
   "language": "python",
   "name": "conda-env-anaconda-panel-2023.05-py310-py"
  },
  "language_info": {
   "codemirror_mode": {
    "name": "ipython",
    "version": 3
   },
   "file_extension": ".py",
   "mimetype": "text/x-python",
   "name": "python",
   "nbconvert_exporter": "python",
   "pygments_lexer": "ipython3",
   "version": "3.11.5"
  }
 },
 "nbformat": 4,
 "nbformat_minor": 5
}
